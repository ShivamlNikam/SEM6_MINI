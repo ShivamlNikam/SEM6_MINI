{
 "cells": [
  {
   "cell_type": "code",
   "execution_count": 1,
   "id": "f4402ccb",
   "metadata": {
    "_cell_guid": "b1076dfc-b9ad-4769-8c92-a6c4dae69d19",
    "_uuid": "8f2839f25d086af736a60e9eeb907d3b93b6e0e5",
    "execution": {
     "iopub.execute_input": "2021-11-02T04:12:57.715920Z",
     "iopub.status.busy": "2021-11-02T04:12:57.714298Z",
     "iopub.status.idle": "2021-11-02T04:12:59.058276Z",
     "shell.execute_reply": "2021-11-02T04:12:59.059163Z",
     "shell.execute_reply.started": "2021-11-02T04:08:50.319628Z"
    },
    "papermill": {
     "duration": 1.370405,
     "end_time": "2021-11-02T04:12:59.059493",
     "exception": false,
     "start_time": "2021-11-02T04:12:57.689088",
     "status": "completed"
    },
    "tags": []
   },
   "outputs": [],
   "source": [
    "# This Python 3 environment comes with many helpful analytics libraries installed\n",
    "# It is defined by the kaggle/python Docker image: https://github.com/kaggle/docker-python\n",
    "# For example, here's several helpful packages to load\n",
    "\n",
    "import numpy as np # linear algebra\n",
    "import pandas as pd # data processing, CSV file I/O (e.g. pd.read_csv)\n",
    "\n",
    "# Input data files are available in the read-only \"../input/\" directory\n",
    "# For example, running this (by clicking run or pressing Shift+Enter) will list all files under the input directory\n",
    "\n",
    "import os\n",
    "for dirname, _, filenames in os.walk('/kaggle/input'):\n",
    "    for filename in filenames:\n",
    "        print(os.path.join(dirname, filename))\n",
    "\n",
    "# You can write up to 20GB to the current directory (/kaggle/working/) that gets preserved as output when you create a version using \"Save & Run All\" \n",
    "# You can also write temporary files to /kaggle/temp/, but they won't be saved outside of the current session"
   ]
  },
  {
   "cell_type": "code",
   "execution_count": 2,
   "id": "6048f44f",
   "metadata": {},
   "outputs": [
    {
     "name": "stdout",
     "output_type": "stream",
     "text": [
      "Requirement already satisfied: matplotlib in c:\\users\\student\\anaconda3\\envs\\food\\lib\\site-packages (3.3.4)\n",
      "Requirement already satisfied: pyparsing!=2.0.4,!=2.1.2,!=2.1.6,>=2.0.3 in c:\\users\\student\\anaconda3\\envs\\food\\lib\\site-packages (from matplotlib) (3.0.9)\n",
      "Requirement already satisfied: numpy>=1.15 in c:\\users\\student\\anaconda3\\envs\\food\\lib\\site-packages (from matplotlib) (1.19.5)\n",
      "Requirement already satisfied: python-dateutil>=2.1 in c:\\users\\student\\anaconda3\\envs\\food\\lib\\site-packages (from matplotlib) (2.8.2)\n",
      "Requirement already satisfied: kiwisolver>=1.0.1 in c:\\users\\student\\anaconda3\\envs\\food\\lib\\site-packages (from matplotlib) (1.3.1)\n",
      "Requirement already satisfied: pillow>=6.2.0 in c:\\users\\student\\anaconda3\\envs\\food\\lib\\site-packages (from matplotlib) (8.4.0)\n",
      "Requirement already satisfied: cycler>=0.10 in c:\\users\\student\\anaconda3\\envs\\food\\lib\\site-packages (from matplotlib) (0.11.0)\n",
      "Requirement already satisfied: six>=1.5 in c:\\users\\student\\anaconda3\\envs\\food\\lib\\site-packages (from python-dateutil>=2.1->matplotlib) (1.15.0)\n"
     ]
    }
   ],
   "source": [
    "!pip install matplotlib"
   ]
  },
  {
   "cell_type": "code",
   "execution_count": 3,
   "id": "3a80f008",
   "metadata": {
    "execution": {
     "iopub.execute_input": "2021-11-02T04:12:59.131000Z",
     "iopub.status.busy": "2021-11-02T04:12:59.129810Z",
     "iopub.status.idle": "2021-11-02T04:13:04.578664Z",
     "shell.execute_reply": "2021-11-02T04:13:04.577747Z",
     "shell.execute_reply.started": "2021-11-02T04:10:42.022652Z"
    },
    "papermill": {
     "duration": 5.486991,
     "end_time": "2021-11-02T04:13:04.578852",
     "exception": false,
     "start_time": "2021-11-02T04:12:59.091861",
     "status": "completed"
    },
    "tags": []
   },
   "outputs": [
    {
     "name": "stdout",
     "output_type": "stream",
     "text": [
      "2.6.2\n"
     ]
    }
   ],
   "source": [
    "import numpy as np\n",
    "import pandas as pd\n",
    "from pathlib import Path\n",
    "import os.path\n",
    "import matplotlib.pyplot as plt\n",
    "import tensorflow as tf\n",
    "from tensorflow.keras.preprocessing.image import load_img,img_to_array\n",
    "print(tf.__version__)"
   ]
  },
  {
   "cell_type": "code",
   "execution_count": 4,
   "id": "4dffca75",
   "metadata": {
    "execution": {
     "iopub.execute_input": "2021-11-02T04:13:04.639711Z",
     "iopub.status.busy": "2021-11-02T04:13:04.639013Z",
     "iopub.status.idle": "2021-11-02T04:13:04.704474Z",
     "shell.execute_reply": "2021-11-02T04:13:04.703891Z",
     "shell.execute_reply.started": "2021-11-02T04:10:53.286987Z"
    },
    "papermill": {
     "duration": 0.097465,
     "end_time": "2021-11-02T04:13:04.704628",
     "exception": false,
     "start_time": "2021-11-02T04:13:04.607163",
     "status": "completed"
    },
    "tags": []
   },
   "outputs": [],
   "source": [
    "# Create a list with the filepaths for training and testing\n",
    "train_dir = Path('../input/fruit-and-vegetable-image-recognition/train')\n",
    "train_filepaths = list(train_dir.glob(r'**/*.jpg'))"
   ]
  },
  {
   "cell_type": "code",
   "execution_count": 5,
   "id": "62e9db13",
   "metadata": {
    "execution": {
     "iopub.execute_input": "2021-11-02T04:13:04.763397Z",
     "iopub.status.busy": "2021-11-02T04:13:04.762653Z",
     "iopub.status.idle": "2021-11-02T04:13:04.797643Z",
     "shell.execute_reply": "2021-11-02T04:13:04.798136Z",
     "shell.execute_reply.started": "2021-11-02T04:10:56.870550Z"
    },
    "papermill": {
     "duration": 0.065625,
     "end_time": "2021-11-02T04:13:04.798361",
     "exception": false,
     "start_time": "2021-11-02T04:13:04.732736",
     "status": "completed"
    },
    "tags": []
   },
   "outputs": [],
   "source": [
    "test_dir = Path('../input/fruit-and-vegetable-image-recognition/test')\n",
    "test_filepaths = list(test_dir.glob(r'**/*.jpg'))"
   ]
  },
  {
   "cell_type": "code",
   "execution_count": 6,
   "id": "d9efbe8a",
   "metadata": {
    "execution": {
     "iopub.execute_input": "2021-11-02T04:13:04.857921Z",
     "iopub.status.busy": "2021-11-02T04:13:04.857316Z",
     "iopub.status.idle": "2021-11-02T04:13:04.891899Z",
     "shell.execute_reply": "2021-11-02T04:13:04.892424Z",
     "shell.execute_reply.started": "2021-11-02T04:11:08.545135Z"
    },
    "papermill": {
     "duration": 0.065947,
     "end_time": "2021-11-02T04:13:04.892592",
     "exception": false,
     "start_time": "2021-11-02T04:13:04.826645",
     "status": "completed"
    },
    "tags": []
   },
   "outputs": [],
   "source": [
    "val_dir = Path('../input/fruit-and-vegetable-image-recognition/validation')\n",
    "val_filepaths = list(test_dir.glob(r'**/*.jpg'))"
   ]
  },
  {
   "cell_type": "code",
   "execution_count": 7,
   "id": "e5f09b5c",
   "metadata": {
    "execution": {
     "iopub.execute_input": "2021-11-02T04:13:04.951015Z",
     "iopub.status.busy": "2021-11-02T04:13:04.950415Z",
     "iopub.status.idle": "2021-11-02T04:13:04.957036Z",
     "shell.execute_reply": "2021-11-02T04:13:04.957533Z",
     "shell.execute_reply.started": "2021-11-02T04:11:10.796825Z"
    },
    "papermill": {
     "duration": 0.037108,
     "end_time": "2021-11-02T04:13:04.957704",
     "exception": false,
     "start_time": "2021-11-02T04:13:04.920596",
     "status": "completed"
    },
    "tags": []
   },
   "outputs": [],
   "source": [
    "def image_processing(filepath):\n",
    "    \"\"\" Create a DataFrame with the filepath and the labels of the pictures\n",
    "    \"\"\"\n",
    "\n",
    "    labels = [str(filepath[i]).split(\"/\")[-2] \\\n",
    "              for i in range(len(filepath))]\n",
    "\n",
    "    filepath = pd.Series(filepath, name='Filepath').astype(str)\n",
    "    labels = pd.Series(labels, name='Label')\n",
    "\n",
    "    # Concatenate filepaths and labels\n",
    "    df = pd.concat([filepath, labels], axis=1)\n",
    "\n",
    "    # Shuffle the DataFrame and reset index\n",
    "    df = df.sample(frac=1).reset_index(drop = True)\n",
    "    \n",
    "    return df"
   ]
  },
  {
   "cell_type": "code",
   "execution_count": 8,
   "id": "576b8db6",
   "metadata": {
    "execution": {
     "iopub.execute_input": "2021-11-02T04:13:05.033692Z",
     "iopub.status.busy": "2021-11-02T04:13:05.032983Z",
     "iopub.status.idle": "2021-11-02T04:13:05.042744Z",
     "shell.execute_reply": "2021-11-02T04:13:05.042101Z",
     "shell.execute_reply.started": "2021-11-02T04:11:22.983906Z"
    },
    "papermill": {
     "duration": 0.057696,
     "end_time": "2021-11-02T04:13:05.042885",
     "exception": false,
     "start_time": "2021-11-02T04:13:04.985189",
     "status": "completed"
    },
    "tags": []
   },
   "outputs": [
    {
     "name": "stderr",
     "output_type": "stream",
     "text": [
      "C:\\Users\\STUDENT\\anaconda3\\envs\\food\\lib\\site-packages\\ipykernel_launcher.py:8: DeprecationWarning: The default dtype for empty Series will be 'object' instead of 'float64' in a future version. Specify a dtype explicitly to silence this warning.\n",
      "  \n",
      "C:\\Users\\STUDENT\\anaconda3\\envs\\food\\lib\\site-packages\\ipykernel_launcher.py:9: DeprecationWarning: The default dtype for empty Series will be 'object' instead of 'float64' in a future version. Specify a dtype explicitly to silence this warning.\n",
      "  if __name__ == '__main__':\n"
     ]
    }
   ],
   "source": [
    "train_df = image_processing(train_filepaths)\n",
    "test_df = image_processing(test_filepaths)\n",
    "val_df = image_processing(val_filepaths)"
   ]
  },
  {
   "cell_type": "code",
   "execution_count": 9,
   "id": "b3f17d3f",
   "metadata": {
    "execution": {
     "iopub.execute_input": "2021-11-02T04:13:05.114767Z",
     "iopub.status.busy": "2021-11-02T04:13:05.113836Z",
     "iopub.status.idle": "2021-11-02T04:13:05.117489Z",
     "shell.execute_reply": "2021-11-02T04:13:05.118083Z",
     "shell.execute_reply.started": "2021-11-02T04:11:26.152954Z"
    },
    "papermill": {
     "duration": 0.047893,
     "end_time": "2021-11-02T04:13:05.118332",
     "exception": false,
     "start_time": "2021-11-02T04:13:05.070439",
     "status": "completed"
    },
    "tags": []
   },
   "outputs": [
    {
     "name": "stdout",
     "output_type": "stream",
     "text": [
      "-- Training set --\n",
      "\n",
      "Number of pictures: 0\n",
      "\n",
      "Number of different labels: 0\n",
      "\n",
      "Labels: []\n"
     ]
    }
   ],
   "source": [
    "print('-- Training set --\\n')\n",
    "print(f'Number of pictures: {train_df.shape[0]}\\n')\n",
    "print(f'Number of different labels: {len(train_df.Label.unique())}\\n')\n",
    "print(f'Labels: {train_df.Label.unique()}')"
   ]
  },
  {
   "cell_type": "code",
   "execution_count": 10,
   "id": "23a5eb3b",
   "metadata": {
    "execution": {
     "iopub.execute_input": "2021-11-02T04:13:05.181982Z",
     "iopub.status.busy": "2021-11-02T04:13:05.180982Z",
     "iopub.status.idle": "2021-11-02T04:13:05.192657Z",
     "shell.execute_reply": "2021-11-02T04:13:05.192121Z",
     "shell.execute_reply.started": "2021-11-02T04:11:29.331819Z"
    },
    "papermill": {
     "duration": 0.04621,
     "end_time": "2021-11-02T04:13:05.192799",
     "exception": false,
     "start_time": "2021-11-02T04:13:05.146589",
     "status": "completed"
    },
    "tags": []
   },
   "outputs": [
    {
     "data": {
      "text/html": [
       "<div>\n",
       "<style scoped>\n",
       "    .dataframe tbody tr th:only-of-type {\n",
       "        vertical-align: middle;\n",
       "    }\n",
       "\n",
       "    .dataframe tbody tr th {\n",
       "        vertical-align: top;\n",
       "    }\n",
       "\n",
       "    .dataframe thead th {\n",
       "        text-align: right;\n",
       "    }\n",
       "</style>\n",
       "<table border=\"1\" class=\"dataframe\">\n",
       "  <thead>\n",
       "    <tr style=\"text-align: right;\">\n",
       "      <th></th>\n",
       "      <th>Filepath</th>\n",
       "      <th>Label</th>\n",
       "    </tr>\n",
       "  </thead>\n",
       "  <tbody>\n",
       "  </tbody>\n",
       "</table>\n",
       "</div>"
      ],
      "text/plain": [
       "Empty DataFrame\n",
       "Columns: [Filepath, Label]\n",
       "Index: []"
      ]
     },
     "execution_count": 10,
     "metadata": {},
     "output_type": "execute_result"
    }
   ],
   "source": [
    "train_df.head(5)"
   ]
  },
  {
   "cell_type": "code",
   "execution_count": 11,
   "id": "01595bc1",
   "metadata": {
    "execution": {
     "iopub.execute_input": "2021-11-02T04:13:05.284301Z",
     "iopub.status.busy": "2021-11-02T04:13:05.283627Z",
     "iopub.status.idle": "2021-11-02T04:13:16.097978Z",
     "shell.execute_reply": "2021-11-02T04:13:16.098495Z",
     "shell.execute_reply.started": "2021-11-02T04:11:31.820149Z"
    },
    "papermill": {
     "duration": 10.871892,
     "end_time": "2021-11-02T04:13:16.098658",
     "exception": false,
     "start_time": "2021-11-02T04:13:05.226766",
     "status": "completed"
    },
    "tags": []
   },
   "outputs": [
    {
     "ename": "KeyError",
     "evalue": "0",
     "output_type": "error",
     "traceback": [
      "\u001b[1;31m---------------------------------------------------------------------------\u001b[0m",
      "\u001b[1;31mValueError\u001b[0m                                Traceback (most recent call last)",
      "\u001b[1;32m~\\anaconda3\\envs\\food\\lib\\site-packages\\pandas\\core\\indexes\\range.py\u001b[0m in \u001b[0;36mget_loc\u001b[1;34m(self, key, method, tolerance)\u001b[0m\n\u001b[0;32m    354\u001b[0m                 \u001b[1;32mtry\u001b[0m\u001b[1;33m:\u001b[0m\u001b[1;33m\u001b[0m\u001b[1;33m\u001b[0m\u001b[0m\n\u001b[1;32m--> 355\u001b[1;33m                     \u001b[1;32mreturn\u001b[0m \u001b[0mself\u001b[0m\u001b[1;33m.\u001b[0m\u001b[0m_range\u001b[0m\u001b[1;33m.\u001b[0m\u001b[0mindex\u001b[0m\u001b[1;33m(\u001b[0m\u001b[0mnew_key\u001b[0m\u001b[1;33m)\u001b[0m\u001b[1;33m\u001b[0m\u001b[1;33m\u001b[0m\u001b[0m\n\u001b[0m\u001b[0;32m    356\u001b[0m                 \u001b[1;32mexcept\u001b[0m \u001b[0mValueError\u001b[0m \u001b[1;32mas\u001b[0m \u001b[0merr\u001b[0m\u001b[1;33m:\u001b[0m\u001b[1;33m\u001b[0m\u001b[1;33m\u001b[0m\u001b[0m\n",
      "\u001b[1;31mValueError\u001b[0m: 0 is not in range",
      "\nThe above exception was the direct cause of the following exception:\n",
      "\u001b[1;31mKeyError\u001b[0m                                  Traceback (most recent call last)",
      "\u001b[1;32m<ipython-input-11-4e697a973b67>\u001b[0m in \u001b[0;36m<module>\u001b[1;34m\u001b[0m\n\u001b[0;32m      7\u001b[0m \u001b[1;33m\u001b[0m\u001b[0m\n\u001b[0;32m      8\u001b[0m \u001b[1;32mfor\u001b[0m \u001b[0mi\u001b[0m\u001b[1;33m,\u001b[0m \u001b[0max\u001b[0m \u001b[1;32min\u001b[0m \u001b[0menumerate\u001b[0m\u001b[1;33m(\u001b[0m\u001b[0maxes\u001b[0m\u001b[1;33m.\u001b[0m\u001b[0mflat\u001b[0m\u001b[1;33m)\u001b[0m\u001b[1;33m:\u001b[0m\u001b[1;33m\u001b[0m\u001b[1;33m\u001b[0m\u001b[0m\n\u001b[1;32m----> 9\u001b[1;33m     \u001b[0max\u001b[0m\u001b[1;33m.\u001b[0m\u001b[0mimshow\u001b[0m\u001b[1;33m(\u001b[0m\u001b[0mplt\u001b[0m\u001b[1;33m.\u001b[0m\u001b[0mimread\u001b[0m\u001b[1;33m(\u001b[0m\u001b[0mdf_unique\u001b[0m\u001b[1;33m.\u001b[0m\u001b[0mFilepath\u001b[0m\u001b[1;33m[\u001b[0m\u001b[0mi\u001b[0m\u001b[1;33m]\u001b[0m\u001b[1;33m)\u001b[0m\u001b[1;33m)\u001b[0m\u001b[1;33m\u001b[0m\u001b[1;33m\u001b[0m\u001b[0m\n\u001b[0m\u001b[0;32m     10\u001b[0m     \u001b[0max\u001b[0m\u001b[1;33m.\u001b[0m\u001b[0mset_title\u001b[0m\u001b[1;33m(\u001b[0m\u001b[0mdf_unique\u001b[0m\u001b[1;33m.\u001b[0m\u001b[0mLabel\u001b[0m\u001b[1;33m[\u001b[0m\u001b[0mi\u001b[0m\u001b[1;33m]\u001b[0m\u001b[1;33m,\u001b[0m \u001b[0mfontsize\u001b[0m \u001b[1;33m=\u001b[0m \u001b[1;36m12\u001b[0m\u001b[1;33m)\u001b[0m\u001b[1;33m\u001b[0m\u001b[1;33m\u001b[0m\u001b[0m\n\u001b[0;32m     11\u001b[0m \u001b[0mplt\u001b[0m\u001b[1;33m.\u001b[0m\u001b[0mtight_layout\u001b[0m\u001b[1;33m(\u001b[0m\u001b[0mpad\u001b[0m\u001b[1;33m=\u001b[0m\u001b[1;36m0.5\u001b[0m\u001b[1;33m)\u001b[0m\u001b[1;33m\u001b[0m\u001b[1;33m\u001b[0m\u001b[0m\n",
      "\u001b[1;32m~\\anaconda3\\envs\\food\\lib\\site-packages\\pandas\\core\\series.py\u001b[0m in \u001b[0;36m__getitem__\u001b[1;34m(self, key)\u001b[0m\n\u001b[0;32m    880\u001b[0m \u001b[1;33m\u001b[0m\u001b[0m\n\u001b[0;32m    881\u001b[0m         \u001b[1;32melif\u001b[0m \u001b[0mkey_is_scalar\u001b[0m\u001b[1;33m:\u001b[0m\u001b[1;33m\u001b[0m\u001b[1;33m\u001b[0m\u001b[0m\n\u001b[1;32m--> 882\u001b[1;33m             \u001b[1;32mreturn\u001b[0m \u001b[0mself\u001b[0m\u001b[1;33m.\u001b[0m\u001b[0m_get_value\u001b[0m\u001b[1;33m(\u001b[0m\u001b[0mkey\u001b[0m\u001b[1;33m)\u001b[0m\u001b[1;33m\u001b[0m\u001b[1;33m\u001b[0m\u001b[0m\n\u001b[0m\u001b[0;32m    883\u001b[0m \u001b[1;33m\u001b[0m\u001b[0m\n\u001b[0;32m    884\u001b[0m         \u001b[1;32mif\u001b[0m \u001b[0mis_hashable\u001b[0m\u001b[1;33m(\u001b[0m\u001b[0mkey\u001b[0m\u001b[1;33m)\u001b[0m\u001b[1;33m:\u001b[0m\u001b[1;33m\u001b[0m\u001b[1;33m\u001b[0m\u001b[0m\n",
      "\u001b[1;32m~\\anaconda3\\envs\\food\\lib\\site-packages\\pandas\\core\\series.py\u001b[0m in \u001b[0;36m_get_value\u001b[1;34m(self, label, takeable)\u001b[0m\n\u001b[0;32m    988\u001b[0m \u001b[1;33m\u001b[0m\u001b[0m\n\u001b[0;32m    989\u001b[0m         \u001b[1;31m# Similar to Index.get_value, but we do not fall back to positional\u001b[0m\u001b[1;33m\u001b[0m\u001b[1;33m\u001b[0m\u001b[1;33m\u001b[0m\u001b[0m\n\u001b[1;32m--> 990\u001b[1;33m         \u001b[0mloc\u001b[0m \u001b[1;33m=\u001b[0m \u001b[0mself\u001b[0m\u001b[1;33m.\u001b[0m\u001b[0mindex\u001b[0m\u001b[1;33m.\u001b[0m\u001b[0mget_loc\u001b[0m\u001b[1;33m(\u001b[0m\u001b[0mlabel\u001b[0m\u001b[1;33m)\u001b[0m\u001b[1;33m\u001b[0m\u001b[1;33m\u001b[0m\u001b[0m\n\u001b[0m\u001b[0;32m    991\u001b[0m         \u001b[1;32mreturn\u001b[0m \u001b[0mself\u001b[0m\u001b[1;33m.\u001b[0m\u001b[0mindex\u001b[0m\u001b[1;33m.\u001b[0m\u001b[0m_get_values_for_loc\u001b[0m\u001b[1;33m(\u001b[0m\u001b[0mself\u001b[0m\u001b[1;33m,\u001b[0m \u001b[0mloc\u001b[0m\u001b[1;33m,\u001b[0m \u001b[0mlabel\u001b[0m\u001b[1;33m)\u001b[0m\u001b[1;33m\u001b[0m\u001b[1;33m\u001b[0m\u001b[0m\n\u001b[0;32m    992\u001b[0m \u001b[1;33m\u001b[0m\u001b[0m\n",
      "\u001b[1;32m~\\anaconda3\\envs\\food\\lib\\site-packages\\pandas\\core\\indexes\\range.py\u001b[0m in \u001b[0;36mget_loc\u001b[1;34m(self, key, method, tolerance)\u001b[0m\n\u001b[0;32m    355\u001b[0m                     \u001b[1;32mreturn\u001b[0m \u001b[0mself\u001b[0m\u001b[1;33m.\u001b[0m\u001b[0m_range\u001b[0m\u001b[1;33m.\u001b[0m\u001b[0mindex\u001b[0m\u001b[1;33m(\u001b[0m\u001b[0mnew_key\u001b[0m\u001b[1;33m)\u001b[0m\u001b[1;33m\u001b[0m\u001b[1;33m\u001b[0m\u001b[0m\n\u001b[0;32m    356\u001b[0m                 \u001b[1;32mexcept\u001b[0m \u001b[0mValueError\u001b[0m \u001b[1;32mas\u001b[0m \u001b[0merr\u001b[0m\u001b[1;33m:\u001b[0m\u001b[1;33m\u001b[0m\u001b[1;33m\u001b[0m\u001b[0m\n\u001b[1;32m--> 357\u001b[1;33m                     \u001b[1;32mraise\u001b[0m \u001b[0mKeyError\u001b[0m\u001b[1;33m(\u001b[0m\u001b[0mkey\u001b[0m\u001b[1;33m)\u001b[0m \u001b[1;32mfrom\u001b[0m \u001b[0merr\u001b[0m\u001b[1;33m\u001b[0m\u001b[1;33m\u001b[0m\u001b[0m\n\u001b[0m\u001b[0;32m    358\u001b[0m             \u001b[1;32mraise\u001b[0m \u001b[0mKeyError\u001b[0m\u001b[1;33m(\u001b[0m\u001b[0mkey\u001b[0m\u001b[1;33m)\u001b[0m\u001b[1;33m\u001b[0m\u001b[1;33m\u001b[0m\u001b[0m\n\u001b[0;32m    359\u001b[0m         \u001b[1;32mreturn\u001b[0m \u001b[0msuper\u001b[0m\u001b[1;33m(\u001b[0m\u001b[1;33m)\u001b[0m\u001b[1;33m.\u001b[0m\u001b[0mget_loc\u001b[0m\u001b[1;33m(\u001b[0m\u001b[0mkey\u001b[0m\u001b[1;33m,\u001b[0m \u001b[0mmethod\u001b[0m\u001b[1;33m=\u001b[0m\u001b[0mmethod\u001b[0m\u001b[1;33m,\u001b[0m \u001b[0mtolerance\u001b[0m\u001b[1;33m=\u001b[0m\u001b[0mtolerance\u001b[0m\u001b[1;33m)\u001b[0m\u001b[1;33m\u001b[0m\u001b[1;33m\u001b[0m\u001b[0m\n",
      "\u001b[1;31mKeyError\u001b[0m: 0"
     ]
    },
    {
     "data": {
      "image/png": "[encoded data removed]",
      "text/plain": [
       "<Figure size 576x504 with 36 Axes>"
      ]
     },
     "metadata": {},
     "output_type": "display_data"
    }
   ],
   "source": [
    "# Create a DataFrame with one Label of each category\n",
    "df_unique = train_df.copy().drop_duplicates(subset=[\"Label\"]).reset_index()\n",
    "\n",
    "# Display some pictures of the dataset\n",
    "fig, axes = plt.subplots(nrows=6, ncols=6, figsize=(8, 7),\n",
    "                        subplot_kw={'xticks': [], 'yticks': []})\n",
    "\n",
    "for i, ax in enumerate(axes.flat):\n",
    "    ax.imshow(plt.imread(df_unique.Filepath[i]))\n",
    "    ax.set_title(df_unique.Label[i], fontsize = 12)\n",
    "plt.tight_layout(pad=0.5)\n",
    "plt.show()"
   ]
  },
  {
   "cell_type": "code",
   "execution_count": null,
   "id": "726c5e0e",
   "metadata": {
    "execution": {
     "iopub.execute_input": "2021-11-02T04:13:16.181900Z",
     "iopub.status.busy": "2021-11-02T04:13:16.180971Z",
     "iopub.status.idle": "2021-11-02T04:13:16.183792Z",
     "shell.execute_reply": "2021-11-02T04:13:16.183306Z",
     "shell.execute_reply.started": "2021-11-02T04:11:43.469733Z"
    },
    "papermill": {
     "duration": 0.046673,
     "end_time": "2021-11-02T04:13:16.183927",
     "exception": false,
     "start_time": "2021-11-02T04:13:16.137254",
     "status": "completed"
    },
    "tags": []
   },
   "outputs": [],
   "source": [
    "train_generator = tf.keras.preprocessing.image.ImageDataGenerator(\n",
    "    preprocessing_function=tf.keras.applications.mobilenet_v2.preprocess_input\n",
    ")\n",
    "\n",
    "test_generator = tf.keras.preprocessing.image.ImageDataGenerator(\n",
    "    preprocessing_function=tf.keras.applications.mobilenet_v2.preprocess_input\n",
    ")"
   ]
  },
  {
   "cell_type": "code",
   "execution_count": null,
   "id": "412ef763",
   "metadata": {
    "execution": {
     "iopub.execute_input": "2021-11-02T04:13:16.266539Z",
     "iopub.status.busy": "2021-11-02T04:13:16.265850Z",
     "iopub.status.idle": "2021-11-02T04:13:17.374402Z",
     "shell.execute_reply": "2021-11-02T04:13:17.374945Z",
     "shell.execute_reply.started": "2021-11-02T04:11:44.672539Z"
    },
    "papermill": {
     "duration": 1.153017,
     "end_time": "2021-11-02T04:13:17.375112",
     "exception": false,
     "start_time": "2021-11-02T04:13:16.222095",
     "status": "completed"
    },
    "tags": []
   },
   "outputs": [],
   "source": [
    "train_images = train_generator.flow_from_dataframe(\n",
    "    dataframe=train_df,\n",
    "    x_col='Filepath',\n",
    "    y_col='Label',\n",
    "    target_size=(224, 224),\n",
    "    color_mode='rgb',\n",
    "    class_mode='categorical',\n",
    "    batch_size=32,\n",
    "    shuffle=True,\n",
    "    seed=0,\n",
    "    rotation_range=30,\n",
    "    zoom_range=0.15,\n",
    "    width_shift_range=0.2,\n",
    "    height_shift_range=0.2,\n",
    "    shear_range=0.15,\n",
    "    horizontal_flip=True,\n",
    "    fill_mode=\"nearest\"\n",
    ")"
   ]
  },
  {
   "cell_type": "code",
   "execution_count": null,
   "id": "fe1d1204",
   "metadata": {
    "execution": {
     "iopub.execute_input": "2021-11-02T04:13:17.463897Z",
     "iopub.status.busy": "2021-11-02T04:13:17.458664Z",
     "iopub.status.idle": "2021-11-02T04:13:17.576668Z",
     "shell.execute_reply": "2021-11-02T04:13:17.575749Z",
     "shell.execute_reply.started": "2021-11-02T04:11:45.920630Z"
    },
    "papermill": {
     "duration": 0.160302,
     "end_time": "2021-11-02T04:13:17.576817",
     "exception": false,
     "start_time": "2021-11-02T04:13:17.416515",
     "status": "completed"
    },
    "tags": []
   },
   "outputs": [],
   "source": [
    "val_images = train_generator.flow_from_dataframe(\n",
    "    dataframe=val_df,\n",
    "    x_col='Filepath',\n",
    "    y_col='Label',\n",
    "    target_size=(224, 224),\n",
    "    color_mode='rgb',\n",
    "    class_mode='categorical',\n",
    "    batch_size=32,\n",
    "    shuffle=True,\n",
    "    seed=0,\n",
    "    rotation_range=30,\n",
    "    zoom_range=0.15,\n",
    "    width_shift_range=0.2,\n",
    "    height_shift_range=0.2,\n",
    "    shear_range=0.15,\n",
    "    horizontal_flip=True,\n",
    "    fill_mode=\"nearest\"\n",
    ")"
   ]
  },
  {
   "cell_type": "code",
   "execution_count": null,
   "id": "fe81357a",
   "metadata": {
    "execution": {
     "iopub.execute_input": "2021-11-02T04:13:17.662940Z",
     "iopub.status.busy": "2021-11-02T04:13:17.662340Z",
     "iopub.status.idle": "2021-11-02T04:13:17.671190Z",
     "shell.execute_reply": "2021-11-02T04:13:17.671770Z",
     "shell.execute_reply.started": "2021-11-02T04:11:48.652854Z"
    },
    "papermill": {
     "duration": 0.055483,
     "end_time": "2021-11-02T04:13:17.671924",
     "exception": false,
     "start_time": "2021-11-02T04:13:17.616441",
     "status": "completed"
    },
    "tags": []
   },
   "outputs": [],
   "source": [
    "test_images = test_generator.flow_from_dataframe(\n",
    "    dataframe=test_df,\n",
    "    x_col='Filepath',\n",
    "    y_col='Label',\n",
    "    target_size=(224, 224),\n",
    "    color_mode='rgb',\n",
    "    class_mode='categorical',\n",
    "    batch_size=32,\n",
    "    shuffle=False\n",
    ")"
   ]
  },
  {
   "cell_type": "code",
   "execution_count": null,
   "id": "04c38c17",
   "metadata": {
    "execution": {
     "iopub.execute_input": "2021-11-02T04:13:17.755230Z",
     "iopub.status.busy": "2021-11-02T04:13:17.754369Z",
     "iopub.status.idle": "2021-11-02T04:13:19.035013Z",
     "shell.execute_reply": "2021-11-02T04:13:19.035515Z",
     "shell.execute_reply.started": "2021-11-02T04:11:53.021156Z"
    },
    "papermill": {
     "duration": 1.323729,
     "end_time": "2021-11-02T04:13:19.035695",
     "exception": false,
     "start_time": "2021-11-02T04:13:17.711966",
     "status": "completed"
    },
    "tags": []
   },
   "outputs": [],
   "source": [
    "pretrained_model = tf.keras.applications.MobileNetV2(\n",
    "    input_shape=(224, 224, 3),\n",
    "    include_top=False,\n",
    "    weights='imagenet',\n",
    "    pooling='avg'\n",
    ")\n",
    "pretrained_model.trainable = False"
   ]
  },
  {
   "cell_type": "code",
   "execution_count": null,
   "id": "0ca682b9",
   "metadata": {
    "execution": {
     "iopub.execute_input": "2021-11-02T04:13:19.131815Z",
     "iopub.status.busy": "2021-11-02T04:13:19.131122Z",
     "iopub.status.idle": "2021-11-02T04:31:02.144919Z",
     "shell.execute_reply": "2021-11-02T04:31:02.145666Z"
    },
    "papermill": {
     "duration": 1063.069756,
     "end_time": "2021-11-02T04:31:02.146034",
     "exception": false,
     "start_time": "2021-11-02T04:13:19.076278",
     "status": "completed"
    },
    "tags": []
   },
   "outputs": [],
   "source": [
    "inputs = pretrained_model.input\n",
    "\n",
    "x = tf.keras.layers.Dense(128, activation='relu')(pretrained_model.output)\n",
    "x = tf.keras.layers.Dense(128, activation='relu')(x)\n",
    "\n",
    "outputs = tf.keras.layers.Dense(36, activation='softmax')(x)\n",
    "\n",
    "model = tf.keras.Model(inputs=inputs, outputs=outputs)\n",
    "\n",
    "model.compile(\n",
    "    optimizer='adam',\n",
    "    loss='categorical_crossentropy',\n",
    "    metrics=['accuracy']\n",
    ")\n",
    "\n",
    "history = model.fit(\n",
    "    train_images,\n",
    "    validation_data=val_images,\n",
    "    batch_size = 32,\n",
    "    epochs=5,\n",
    "    callbacks=[\n",
    "        tf.keras.callbacks.EarlyStopping(\n",
    "            monitor='val_loss',\n",
    "            patience=2,\n",
    "            restore_best_weights=True\n",
    "        )\n",
    "    ]\n",
    ")"
   ]
  },
  {
   "cell_type": "code",
   "execution_count": null,
   "id": "a53e0525",
   "metadata": {
    "execution": {
     "iopub.execute_input": "2021-11-02T04:31:02.549385Z",
     "iopub.status.busy": "2021-11-02T04:31:02.548687Z",
     "iopub.status.idle": "2021-11-02T04:31:26.164039Z",
     "shell.execute_reply": "2021-11-02T04:31:26.163494Z",
     "shell.execute_reply.started": "2021-10-21T13:12:06.535104Z"
    },
    "papermill": {
     "duration": 23.821524,
     "end_time": "2021-11-02T04:31:26.164167",
     "exception": false,
     "start_time": "2021-11-02T04:31:02.342643",
     "status": "completed"
    },
    "tags": []
   },
   "outputs": [],
   "source": [
    "# Predict the label of the test_images\n",
    "pred = model.predict(test_images)\n",
    "pred = np.argmax(pred,axis=1)\n",
    "# Map the label\n",
    "labels = (train_images.class_indices)\n",
    "labels = dict((v,k) for k,v in labels.items())\n",
    "pred1 = [labels[k] for k in pred]\n",
    "pred1"
   ]
  },
  {
   "cell_type": "code",
   "execution_count": null,
   "id": "8d8f87b3",
   "metadata": {
    "execution": {
     "iopub.execute_input": "2021-11-02T04:31:26.560442Z",
     "iopub.status.busy": "2021-11-02T04:31:26.559801Z",
     "iopub.status.idle": "2021-11-02T04:31:26.565525Z",
     "shell.execute_reply": "2021-11-02T04:31:26.566083Z",
     "shell.execute_reply.started": "2021-10-21T13:12:26.534404Z"
    },
    "papermill": {
     "duration": 0.207631,
     "end_time": "2021-11-02T04:31:26.566270",
     "exception": false,
     "start_time": "2021-11-02T04:31:26.358639",
     "status": "completed"
    },
    "tags": []
   },
   "outputs": [],
   "source": [
    "def output(location):\n",
    "    img=load_img(location,target_size=(224,224,3))\n",
    "    img=img_to_array(img)\n",
    "    img=img/255\n",
    "    img=np.expand_dims(img,[0])\n",
    "    answer=model.predict(img)\n",
    "    y_class = answer.argmax(axis=-1)\n",
    "    y = \" \".join(str(x) for x in y_class)\n",
    "    y = int(y)\n",
    "    res = labels[y]\n",
    "    return res"
   ]
  },
  {
   "cell_type": "code",
   "execution_count": null,
   "id": "673ef9c8",
   "metadata": {
    "execution": {
     "iopub.execute_input": "2021-11-02T04:31:26.958120Z",
     "iopub.status.busy": "2021-11-02T04:31:26.957452Z",
     "iopub.status.idle": "2021-11-02T04:31:28.178053Z",
     "shell.execute_reply": "2021-11-02T04:31:28.178677Z",
     "shell.execute_reply.started": "2021-10-21T13:12:26.543016Z"
    },
    "papermill": {
     "duration": 1.419014,
     "end_time": "2021-11-02T04:31:28.178859",
     "exception": false,
     "start_time": "2021-11-02T04:31:26.759845",
     "status": "completed"
    },
    "tags": []
   },
   "outputs": [],
   "source": [
    "img = output('../input/fruit-and-vegetable-image-recognition/test/cabbage/Image_1.jpg')\n",
    "img"
   ]
  },
  {
   "cell_type": "code",
   "execution_count": null,
   "id": "99a97c02",
   "metadata": {
    "execution": {
     "iopub.execute_input": "2021-11-02T04:31:28.576710Z",
     "iopub.status.busy": "2021-11-02T04:31:28.576072Z",
     "iopub.status.idle": "2021-11-02T04:31:28.888152Z",
     "shell.execute_reply": "2021-11-02T04:31:28.888651Z",
     "shell.execute_reply.started": "2021-10-21T13:15:16.791784Z"
    },
    "papermill": {
     "duration": 0.513092,
     "end_time": "2021-11-02T04:31:28.888839",
     "exception": false,
     "start_time": "2021-11-02T04:31:28.375747",
     "status": "completed"
    },
    "tags": []
   },
   "outputs": [],
   "source": [
    "model.save('FV.h5')"
   ]
  },
  {
   "cell_type": "code",
   "execution_count": null,
   "id": "34db5d8a",
   "metadata": {
    "papermill": {
     "duration": 0.195092,
     "end_time": "2021-11-02T04:31:29.281451",
     "exception": false,
     "start_time": "2021-11-02T04:31:29.086359",
     "status": "completed"
    },
    "tags": []
   },
   "outputs": [],
   "source": []
  }
 ],
 "metadata": {
  "kernelspec": {
   "display_name": "Python 3",
   "language": "python",
   "name": "python3"
  },
  "language_info": {
   "codemirror_mode": {
    "name": "ipython",
    "version": 3
   },
   "file_extension": ".py",
   "mimetype": "text/x-python",
   "name": "python",
   "nbconvert_exporter": "python",
   "pygments_lexer": "ipython3",
   "version": "3.6.13"
  },
  "papermill": {
   "default_parameters": {},
   "duration": 1124.050414,
   "end_time": "2021-11-02T04:31:32.927130",
   "environment_variables": {},
   "exception": null,
   "input_path": "__notebook__.ipynb",
   "output_path": "__notebook__.ipynb",
   "parameters": {},
   "start_time": "2021-11-02T04:12:48.876716",
   "version": "2.3.3"
  }
 },
 "nbformat": 4,
 "nbformat_minor": 5
}
